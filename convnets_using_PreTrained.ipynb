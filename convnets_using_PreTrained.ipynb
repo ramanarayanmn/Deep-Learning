{
  "nbformat": 4,
  "nbformat_minor": 0,
  "metadata": {
    "colab": {
      "name": "Untitled1.ipynb",
      "provenance": [],
      "mount_file_id": "1o6jdffNHX3nI6uqnos0q3JTLKA9FxyeY",
      "authorship_tag": "ABX9TyMPzIlf7rYM7IS+b33OXNaB",
      "include_colab_link": true
    },
    "kernelspec": {
      "name": "python3",
      "display_name": "Python 3"
    },
    "accelerator": "GPU"
  },
  "cells": [
    {
      "cell_type": "markdown",
      "metadata": {
        "id": "view-in-github",
        "colab_type": "text"
      },
      "source": [
        "<a href=\"https://colab.research.google.com/github/ramanarayanmn/Deep-Learning/blob/master/convnets_using_PreTrained.ipynb\" target=\"_parent\"><img src=\"https://colab.research.google.com/assets/colab-badge.svg\" alt=\"Open In Colab\"/></a>"
      ]
    },
    {
      "cell_type": "code",
      "metadata": {
        "id": "9FlwqgcJd-35",
        "outputId": "826a6944-30ec-4dc0-ff80-ab1493560f95",
        "colab": {
          "base_uri": "https://localhost:8080/",
          "height": 35
        }
      },
      "source": [
        "import keras\n",
        "keras.__version__"
      ],
      "execution_count": null,
      "outputs": [
        {
          "output_type": "execute_result",
          "data": {
            "application/vnd.google.colaboratory.intrinsic+json": {
              "type": "string"
            },
            "text/plain": [
              "'2.4.3'"
            ]
          },
          "metadata": {
            "tags": []
          },
          "execution_count": 1
        }
      ]
    },
    {
      "cell_type": "code",
      "metadata": {
        "id": "BncnMclmeGVA"
      },
      "source": [
        "from keras.applications import VGG16\n",
        "\n",
        "conv_base = VGG16(weights = 'imagenet',\n",
        "                  input_shape = (150,150,3),\n",
        "                  include_top = False)"
      ],
      "execution_count": null,
      "outputs": []
    },
    {
      "cell_type": "code",
      "metadata": {
        "id": "yrI2K-9ReI1a",
        "outputId": "6010760e-f1b8-4795-8801-d1b75fd6edfe",
        "colab": {
          "base_uri": "https://localhost:8080/"
        }
      },
      "source": [
        "conv_base.summary()"
      ],
      "execution_count": null,
      "outputs": [
        {
          "output_type": "stream",
          "text": [
            "Model: \"vgg16\"\n",
            "_________________________________________________________________\n",
            "Layer (type)                 Output Shape              Param #   \n",
            "=================================================================\n",
            "input_1 (InputLayer)         [(None, 150, 150, 3)]     0         \n",
            "_________________________________________________________________\n",
            "block1_conv1 (Conv2D)        (None, 150, 150, 64)      1792      \n",
            "_________________________________________________________________\n",
            "block1_conv2 (Conv2D)        (None, 150, 150, 64)      36928     \n",
            "_________________________________________________________________\n",
            "block1_pool (MaxPooling2D)   (None, 75, 75, 64)        0         \n",
            "_________________________________________________________________\n",
            "block2_conv1 (Conv2D)        (None, 75, 75, 128)       73856     \n",
            "_________________________________________________________________\n",
            "block2_conv2 (Conv2D)        (None, 75, 75, 128)       147584    \n",
            "_________________________________________________________________\n",
            "block2_pool (MaxPooling2D)   (None, 37, 37, 128)       0         \n",
            "_________________________________________________________________\n",
            "block3_conv1 (Conv2D)        (None, 37, 37, 256)       295168    \n",
            "_________________________________________________________________\n",
            "block3_conv2 (Conv2D)        (None, 37, 37, 256)       590080    \n",
            "_________________________________________________________________\n",
            "block3_conv3 (Conv2D)        (None, 37, 37, 256)       590080    \n",
            "_________________________________________________________________\n",
            "block3_pool (MaxPooling2D)   (None, 18, 18, 256)       0         \n",
            "_________________________________________________________________\n",
            "block4_conv1 (Conv2D)        (None, 18, 18, 512)       1180160   \n",
            "_________________________________________________________________\n",
            "block4_conv2 (Conv2D)        (None, 18, 18, 512)       2359808   \n",
            "_________________________________________________________________\n",
            "block4_conv3 (Conv2D)        (None, 18, 18, 512)       2359808   \n",
            "_________________________________________________________________\n",
            "block4_pool (MaxPooling2D)   (None, 9, 9, 512)         0         \n",
            "_________________________________________________________________\n",
            "block5_conv1 (Conv2D)        (None, 9, 9, 512)         2359808   \n",
            "_________________________________________________________________\n",
            "block5_conv2 (Conv2D)        (None, 9, 9, 512)         2359808   \n",
            "_________________________________________________________________\n",
            "block5_conv3 (Conv2D)        (None, 9, 9, 512)         2359808   \n",
            "_________________________________________________________________\n",
            "block5_pool (MaxPooling2D)   (None, 4, 4, 512)         0         \n",
            "=================================================================\n",
            "Total params: 14,714,688\n",
            "Trainable params: 14,714,688\n",
            "Non-trainable params: 0\n",
            "_________________________________________________________________\n"
          ],
          "name": "stdout"
        }
      ]
    },
    {
      "cell_type": "code",
      "metadata": {
        "id": "aUCKNAoUeLZZ"
      },
      "source": [
        "train_dir = '/content/drive/My Drive/cats_and_dogs_small/train'\n",
        "validation_dir = '/content/drive/My Drive/cats_and_dogs_small/validation'\n",
        "test_dir = '/content/drive/My Drive/cats_and_dogs_small/test'"
      ],
      "execution_count": null,
      "outputs": []
    },
    {
      "cell_type": "code",
      "metadata": {
        "id": "BYDVCrVHmPD6",
        "outputId": "6d258c5b-abde-4342-9cee-518f38969c67",
        "colab": {
          "base_uri": "https://localhost:8080/"
        }
      },
      "source": [
        "import os\n",
        "import numpy as np\n",
        "from keras.preprocessing.image import ImageDataGenerator\n",
        "\n",
        "datagen = ImageDataGenerator(rescale=1./255)\n",
        "batch_size = 20\n",
        "\n",
        "def extract_features(directory, sample_count):\n",
        "    features = np.zeros(shape=(sample_count, 4, 4, 512))\n",
        "    labels = np.zeros(shape=(sample_count))\n",
        "    generator = datagen.flow_from_directory(\n",
        "        directory,\n",
        "        target_size=(150, 150),\n",
        "        batch_size=batch_size,\n",
        "        class_mode='binary')\n",
        "    i = 0\n",
        "    for inputs_batch, labels_batch in generator:\n",
        "        features_batch = conv_base.predict(inputs_batch)\n",
        "        features[i * batch_size : (i + 1) * batch_size] = features_batch\n",
        "        labels[i * batch_size : (i + 1) * batch_size] = labels_batch\n",
        "        i += 1\n",
        "        if i * batch_size >= sample_count:\n",
        "            # Note that since generators yield data indefinitely in a loop,\n",
        "            # we must `break` after every image has been seen once.\n",
        "            break\n",
        "    return features, labels\n",
        "\n",
        "train_features, train_labels = extract_features(train_dir, 2000)\n",
        "validation_features, validation_labels = extract_features(validation_dir, 1000)\n",
        "test_features, test_labels = extract_features(test_dir, 1000)"
      ],
      "execution_count": null,
      "outputs": [
        {
          "output_type": "stream",
          "text": [
            "Found 2000 images belonging to 2 classes.\n",
            "Found 1000 images belonging to 2 classes.\n",
            "Found 1000 images belonging to 2 classes.\n"
          ],
          "name": "stdout"
        }
      ]
    },
    {
      "cell_type": "code",
      "metadata": {
        "id": "y1dHTe-XePvZ"
      },
      "source": [
        "train_features = np.reshape(train_features, (2000,4*4*512))\n",
        "validation_features = np.reshape(validation_features, (1000,4*4*512))\n",
        "test_features = np.reshape(test_features, (1000,4*4*512))"
      ],
      "execution_count": null,
      "outputs": []
    },
    {
      "cell_type": "code",
      "metadata": {
        "id": "vgKW52gHen4n",
        "outputId": "78444df5-ce11-4192-fd0b-cbb1c4095558",
        "colab": {
          "base_uri": "https://localhost:8080/"
        }
      },
      "source": [
        "from keras import models\n",
        "from keras import layers\n",
        "\n",
        "model = models.Sequential()\n",
        "model.add(layers.Dense(256, activation = 'relu', input_dim=4*4*512))\n",
        "model.add(layers.Dropout(0.5))\n",
        "model.add(layers.Dense(1, activation = 'sigmoid'))\n",
        "\n",
        "model.compile(optimizer = 'rmsprop',\n",
        "              loss = 'binary_crossentropy',\n",
        "              metrics = ['acc'])\n",
        "\n",
        "history = model.fit(train_features, train_labels,\n",
        "                    epochs = 30,\n",
        "                    batch_size = 20,\n",
        "                    validation_data = (validation_features, validation_labels))"
      ],
      "execution_count": null,
      "outputs": [
        {
          "output_type": "stream",
          "text": [
            "Epoch 1/30\n",
            "100/100 [==============================] - 1s 5ms/step - loss: 0.7104 - acc: 0.7685 - val_loss: 0.2690 - val_acc: 0.8910\n",
            "Epoch 2/30\n",
            "100/100 [==============================] - 0s 4ms/step - loss: 0.3339 - acc: 0.8560 - val_loss: 0.2727 - val_acc: 0.8940\n",
            "Epoch 3/30\n",
            "100/100 [==============================] - 0s 4ms/step - loss: 0.2956 - acc: 0.8900 - val_loss: 0.4890 - val_acc: 0.8030\n",
            "Epoch 4/30\n",
            "100/100 [==============================] - 0s 4ms/step - loss: 0.2548 - acc: 0.9000 - val_loss: 0.2865 - val_acc: 0.8940\n",
            "Epoch 5/30\n",
            "100/100 [==============================] - 0s 4ms/step - loss: 0.1976 - acc: 0.9235 - val_loss: 0.2769 - val_acc: 0.8970\n",
            "Epoch 6/30\n",
            "100/100 [==============================] - 0s 4ms/step - loss: 0.1970 - acc: 0.9260 - val_loss: 0.2607 - val_acc: 0.9030\n",
            "Epoch 7/30\n",
            "100/100 [==============================] - 0s 4ms/step - loss: 0.1648 - acc: 0.9385 - val_loss: 0.3981 - val_acc: 0.8840\n",
            "Epoch 8/30\n",
            "100/100 [==============================] - 0s 4ms/step - loss: 0.1561 - acc: 0.9415 - val_loss: 0.3230 - val_acc: 0.9050\n",
            "Epoch 9/30\n",
            "100/100 [==============================] - 0s 4ms/step - loss: 0.1301 - acc: 0.9500 - val_loss: 0.3715 - val_acc: 0.9000\n",
            "Epoch 10/30\n",
            "100/100 [==============================] - 0s 4ms/step - loss: 0.1291 - acc: 0.9530 - val_loss: 0.4212 - val_acc: 0.8950\n",
            "Epoch 11/30\n",
            "100/100 [==============================] - 0s 4ms/step - loss: 0.1217 - acc: 0.9540 - val_loss: 0.3982 - val_acc: 0.9070\n",
            "Epoch 12/30\n",
            "100/100 [==============================] - 0s 4ms/step - loss: 0.0794 - acc: 0.9675 - val_loss: 0.4319 - val_acc: 0.9060\n",
            "Epoch 13/30\n",
            "100/100 [==============================] - 0s 4ms/step - loss: 0.0890 - acc: 0.9660 - val_loss: 0.4992 - val_acc: 0.8800\n",
            "Epoch 14/30\n",
            "100/100 [==============================] - 0s 4ms/step - loss: 0.0717 - acc: 0.9745 - val_loss: 0.4248 - val_acc: 0.8980\n",
            "Epoch 15/30\n",
            "100/100 [==============================] - 0s 4ms/step - loss: 0.0823 - acc: 0.9680 - val_loss: 0.4533 - val_acc: 0.8990\n",
            "Epoch 16/30\n",
            "100/100 [==============================] - 0s 4ms/step - loss: 0.0655 - acc: 0.9720 - val_loss: 0.4404 - val_acc: 0.9070\n",
            "Epoch 17/30\n",
            "100/100 [==============================] - 0s 4ms/step - loss: 0.0564 - acc: 0.9770 - val_loss: 0.4671 - val_acc: 0.8950\n",
            "Epoch 18/30\n",
            "100/100 [==============================] - 0s 4ms/step - loss: 0.0444 - acc: 0.9810 - val_loss: 0.4971 - val_acc: 0.8940\n",
            "Epoch 19/30\n",
            "100/100 [==============================] - 0s 4ms/step - loss: 0.0536 - acc: 0.9760 - val_loss: 0.9281 - val_acc: 0.8580\n",
            "Epoch 20/30\n",
            "100/100 [==============================] - 0s 4ms/step - loss: 0.0505 - acc: 0.9825 - val_loss: 0.5644 - val_acc: 0.9070\n",
            "Epoch 21/30\n",
            "100/100 [==============================] - 0s 4ms/step - loss: 0.0461 - acc: 0.9860 - val_loss: 0.5466 - val_acc: 0.9060\n",
            "Epoch 22/30\n",
            "100/100 [==============================] - 0s 4ms/step - loss: 0.0271 - acc: 0.9900 - val_loss: 0.7025 - val_acc: 0.8970\n",
            "Epoch 23/30\n",
            "100/100 [==============================] - 0s 4ms/step - loss: 0.0393 - acc: 0.9870 - val_loss: 0.5985 - val_acc: 0.9060\n",
            "Epoch 24/30\n",
            "100/100 [==============================] - 0s 4ms/step - loss: 0.0314 - acc: 0.9885 - val_loss: 0.6710 - val_acc: 0.9020\n",
            "Epoch 25/30\n",
            "100/100 [==============================] - 0s 4ms/step - loss: 0.0246 - acc: 0.9915 - val_loss: 0.7284 - val_acc: 0.9000\n",
            "Epoch 26/30\n",
            "100/100 [==============================] - 0s 4ms/step - loss: 0.0292 - acc: 0.9890 - val_loss: 1.6242 - val_acc: 0.8300\n",
            "Epoch 27/30\n",
            "100/100 [==============================] - 0s 4ms/step - loss: 0.0179 - acc: 0.9945 - val_loss: 0.7068 - val_acc: 0.9010\n",
            "Epoch 28/30\n",
            "100/100 [==============================] - 0s 4ms/step - loss: 0.0229 - acc: 0.9920 - val_loss: 0.7937 - val_acc: 0.9040\n",
            "Epoch 29/30\n",
            "100/100 [==============================] - 0s 4ms/step - loss: 0.0312 - acc: 0.9915 - val_loss: 1.0486 - val_acc: 0.8570\n",
            "Epoch 30/30\n",
            "100/100 [==============================] - 0s 4ms/step - loss: 0.0365 - acc: 0.9870 - val_loss: 0.8942 - val_acc: 0.8940\n"
          ],
          "name": "stdout"
        }
      ]
    },
    {
      "cell_type": "code",
      "metadata": {
        "id": "sD_VyBmdf3lj",
        "outputId": "41bc8113-bb7f-41dc-9920-4e636e559881",
        "colab": {
          "base_uri": "https://localhost:8080/",
          "height": 545
        }
      },
      "source": [
        "\n",
        "import matplotlib.pyplot as plt\n",
        "\n",
        "acc = history.history['acc']\n",
        "val_acc = history.history['val_acc']\n",
        "loss = history.history['loss']\n",
        "val_loss = history.history['val_loss']\n",
        "\n",
        "epochs = range(len(acc))\n",
        "\n",
        "plt.plot(epochs, acc, 'bo', label='Training acc')\n",
        "plt.plot(epochs, val_acc, 'b', label='Validation acc')\n",
        "plt.title('Training and validation accuracy')\n",
        "plt.legend()\n",
        "\n",
        "plt.figure()\n",
        "\n",
        "plt.plot(epochs, loss, 'bo', label='Training loss')\n",
        "plt.plot(epochs, val_loss, 'b', label='Validation loss')\n",
        "plt.title('Training and validation loss')\n",
        "plt.legend()\n",
        "\n",
        "plt.show()"
      ],
      "execution_count": null,
      "outputs": [
        {
          "output_type": "display_data",
          "data": {
            "image/png": "[encoded data removed]",
            "text/plain": [
              "<Figure size 432x288 with 1 Axes>"
            ]
          },
          "metadata": {
            "tags": [],
            "needs_background": "light"
          }
        },
        {
          "output_type": "display_data",
          "data": {
            "image/png": "[encoded data removed]",
            "text/plain": [
              "<Figure size 432x288 with 1 Axes>"
            ]
          },
          "metadata": {
            "tags": [],
            "needs_background": "light"
          }
        }
      ]
    },
    {
      "cell_type": "markdown",
      "metadata": {
        "id": "Pt35Vd3jgIuk"
      },
      "source": [
        "Freezing Conv_base layer"
      ]
    },
    {
      "cell_type": "code",
      "metadata": {
        "id": "hPMikXxGgQ9e"
      },
      "source": [
        "from keras import models\n",
        "from keras import layers\n",
        "\n",
        "model = models.Sequential()\n",
        "model.add(conv_base)\n",
        "model.add(layers.Flatten())\n",
        "model.add(layers.Dense(256, activation='relu'))\n",
        "model.add(layers.Dense(1, activation='sigmoid'))"
      ],
      "execution_count": null,
      "outputs": []
    },
    {
      "cell_type": "code",
      "metadata": {
        "id": "HReVdFhDgSr3",
        "outputId": "57b9664b-fd72-4f5e-db4c-71e726a4c5a8",
        "colab": {
          "base_uri": "https://localhost:8080/"
        }
      },
      "source": [
        "model.summary()"
      ],
      "execution_count": null,
      "outputs": [
        {
          "output_type": "stream",
          "text": [
            "Model: \"sequential_1\"\n",
            "_________________________________________________________________\n",
            "Layer (type)                 Output Shape              Param #   \n",
            "=================================================================\n",
            "vgg16 (Functional)           (None, 4, 4, 512)         14714688  \n",
            "_________________________________________________________________\n",
            "flatten (Flatten)            (None, 8192)              0         \n",
            "_________________________________________________________________\n",
            "dense_2 (Dense)              (None, 256)               2097408   \n",
            "_________________________________________________________________\n",
            "dense_3 (Dense)              (None, 1)                 257       \n",
            "=================================================================\n",
            "Total params: 16,812,353\n",
            "Trainable params: 16,812,353\n",
            "Non-trainable params: 0\n",
            "_________________________________________________________________\n"
          ],
          "name": "stdout"
        }
      ]
    },
    {
      "cell_type": "code",
      "metadata": {
        "id": "zG8U61NBgVuk",
        "outputId": "0e0dec77-b32e-44df-98b9-e2a17753d3de",
        "colab": {
          "base_uri": "https://localhost:8080/"
        }
      },
      "source": [
        "\n",
        "print('This is the number of trainable weights '\n",
        "      'before freezing the conv base:', len(model.trainable_weights))"
      ],
      "execution_count": 14,
      "outputs": [
        {
          "output_type": "stream",
          "text": [
            "This is the number of trainable weights before freezing the conv base: 30\n"
          ],
          "name": "stdout"
        }
      ]
    },
    {
      "cell_type": "code",
      "metadata": {
        "id": "T7flBeKTgkRR"
      },
      "source": [
        "conv_base.trainable = False"
      ],
      "execution_count": 15,
      "outputs": []
    },
    {
      "cell_type": "code",
      "metadata": {
        "id": "yMh-_MDXgozD",
        "outputId": "d05787e7-0d7f-477f-a7ad-ecb6e57e240b",
        "colab": {
          "base_uri": "https://localhost:8080/"
        }
      },
      "source": [
        "print('Total number of trainable layers: ',len(model.trainable_weights))"
      ],
      "execution_count": 16,
      "outputs": [
        {
          "output_type": "stream",
          "text": [
            "Total number of trainable layers:  4\n"
          ],
          "name": "stdout"
        }
      ]
    },
    {
      "cell_type": "code",
      "metadata": {
        "id": "2KBv39-Kgqhy",
        "outputId": "dffabf78-a504-40c2-821f-84dafe0fe84e",
        "colab": {
          "base_uri": "https://localhost:8080/"
        }
      },
      "source": [
        "## Data Augmentation\n",
        "from keras.preprocessing.image import ImageDataGenerator\n",
        "\n",
        "train_datagen = ImageDataGenerator(\n",
        "                rescale = 1./255,\n",
        "                rotation_range = 40,\n",
        "                width_shift_range = 0.2,\n",
        "                height_shift_range = 0.2,\n",
        "                shear_range = 0.2,\n",
        "                zoom_range = 0.2,\n",
        "                horizontal_flip = True,\n",
        "                fill_mode = 'nearest'\n",
        ")\n",
        "\n",
        "test_datagen = ImageDataGenerator(rescale = 1./255)\n",
        "\n",
        "train_generator = train_datagen.flow_from_directory(\n",
        "                  train_dir,\n",
        "                  batch_size = 20,\n",
        "                  target_size = (150, 150),\n",
        "                  class_mode = 'binary'\n",
        ")\n",
        "\n",
        "validation_generator = test_datagen.flow_from_directory(\n",
        "                        validation_dir,\n",
        "                        batch_size = 20,\n",
        "                        target_size = (150, 150),\n",
        "                        class_mode = 'binary'\n",
        ")\n",
        "\n",
        "model.compile(loss='binary_crossentropy',\n",
        "              optimizer='rmsprop',\n",
        "              metrics=['acc'])\n",
        "\n",
        "history = model.fit_generator(\n",
        "      train_generator,\n",
        "      steps_per_epoch=100,\n",
        "      epochs=30,\n",
        "      validation_data=validation_generator,\n",
        "      validation_steps=50,\n",
        "      verbose=2)"
      ],
      "execution_count": 18,
      "outputs": [
        {
          "output_type": "stream",
          "text": [
            "Found 2000 images belonging to 2 classes.\n",
            "Found 1000 images belonging to 2 classes.\n",
            "Epoch 1/30\n",
            "100/100 - 23s - loss: 0.7373 - acc: 0.7020 - val_loss: 0.3567 - val_acc: 0.8320\n",
            "Epoch 2/30\n",
            "100/100 - 22s - loss: 0.4633 - acc: 0.7795 - val_loss: 0.3065 - val_acc: 0.8630\n",
            "Epoch 3/30\n",
            "100/100 - 22s - loss: 0.4093 - acc: 0.8000 - val_loss: 0.2886 - val_acc: 0.8740\n",
            "Epoch 4/30\n",
            "100/100 - 22s - loss: 0.3762 - acc: 0.8195 - val_loss: 0.2628 - val_acc: 0.8830\n",
            "Epoch 5/30\n",
            "100/100 - 23s - loss: 0.3554 - acc: 0.8415 - val_loss: 0.2775 - val_acc: 0.8870\n",
            "Epoch 6/30\n",
            "100/100 - 22s - loss: 0.3666 - acc: 0.8345 - val_loss: 0.2577 - val_acc: 0.8980\n",
            "Epoch 7/30\n",
            "100/100 - 22s - loss: 0.3658 - acc: 0.8340 - val_loss: 0.2516 - val_acc: 0.8890\n",
            "Epoch 8/30\n",
            "100/100 - 22s - loss: 0.3576 - acc: 0.8385 - val_loss: 0.2535 - val_acc: 0.8980\n",
            "Epoch 9/30\n",
            "100/100 - 22s - loss: 0.3381 - acc: 0.8545 - val_loss: 0.2450 - val_acc: 0.9050\n",
            "Epoch 10/30\n",
            "100/100 - 22s - loss: 0.3152 - acc: 0.8530 - val_loss: 0.2342 - val_acc: 0.9060\n",
            "Epoch 11/30\n",
            "100/100 - 22s - loss: 0.3382 - acc: 0.8500 - val_loss: 0.2389 - val_acc: 0.9040\n",
            "Epoch 12/30\n",
            "100/100 - 22s - loss: 0.3264 - acc: 0.8515 - val_loss: 0.2943 - val_acc: 0.8710\n",
            "Epoch 13/30\n",
            "100/100 - 22s - loss: 0.3086 - acc: 0.8645 - val_loss: 0.2598 - val_acc: 0.8950\n",
            "Epoch 14/30\n",
            "100/100 - 22s - loss: 0.3085 - acc: 0.8685 - val_loss: 0.2505 - val_acc: 0.9070\n",
            "Epoch 15/30\n",
            "100/100 - 22s - loss: 0.3092 - acc: 0.8610 - val_loss: 0.2544 - val_acc: 0.9010\n",
            "Epoch 16/30\n",
            "100/100 - 22s - loss: 0.3029 - acc: 0.8675 - val_loss: 0.2585 - val_acc: 0.8940\n",
            "Epoch 17/30\n",
            "100/100 - 22s - loss: 0.3016 - acc: 0.8600 - val_loss: 0.2535 - val_acc: 0.9060\n",
            "Epoch 18/30\n",
            "100/100 - 22s - loss: 0.2891 - acc: 0.8790 - val_loss: 0.2973 - val_acc: 0.8780\n",
            "Epoch 19/30\n",
            "100/100 - 23s - loss: 0.2859 - acc: 0.8760 - val_loss: 0.2508 - val_acc: 0.8960\n",
            "Epoch 20/30\n",
            "100/100 - 22s - loss: 0.2927 - acc: 0.8775 - val_loss: 0.2585 - val_acc: 0.9060\n",
            "Epoch 21/30\n",
            "100/100 - 22s - loss: 0.3023 - acc: 0.8710 - val_loss: 0.2558 - val_acc: 0.9000\n",
            "Epoch 22/30\n",
            "100/100 - 22s - loss: 0.2807 - acc: 0.8845 - val_loss: 0.2537 - val_acc: 0.8990\n",
            "Epoch 23/30\n",
            "100/100 - 22s - loss: 0.2855 - acc: 0.8730 - val_loss: 0.2719 - val_acc: 0.8870\n",
            "Epoch 24/30\n",
            "100/100 - 22s - loss: 0.2825 - acc: 0.8800 - val_loss: 0.2646 - val_acc: 0.9040\n",
            "Epoch 25/30\n",
            "100/100 - 22s - loss: 0.2806 - acc: 0.8885 - val_loss: 0.2586 - val_acc: 0.9050\n",
            "Epoch 26/30\n",
            "100/100 - 22s - loss: 0.2623 - acc: 0.8910 - val_loss: 0.2833 - val_acc: 0.9050\n",
            "Epoch 27/30\n",
            "100/100 - 22s - loss: 0.2822 - acc: 0.8770 - val_loss: 0.2810 - val_acc: 0.8930\n",
            "Epoch 28/30\n",
            "100/100 - 22s - loss: 0.2510 - acc: 0.8905 - val_loss: 0.2700 - val_acc: 0.8960\n",
            "Epoch 29/30\n",
            "100/100 - 22s - loss: 0.2683 - acc: 0.8890 - val_loss: 0.2954 - val_acc: 0.8920\n",
            "Epoch 30/30\n",
            "100/100 - 22s - loss: 0.2713 - acc: 0.8900 - val_loss: 0.3129 - val_acc: 0.8900\n"
          ],
          "name": "stdout"
        }
      ]
    },
    {
      "cell_type": "code",
      "metadata": {
        "id": "5IYehuE5iXdL"
      },
      "source": [
        "model.save('cats_and_dogs_small_3.h5')\n"
      ],
      "execution_count": 19,
      "outputs": []
    },
    {
      "cell_type": "code",
      "metadata": {
        "id": "uBvPO69liYMx",
        "outputId": "71fefa7f-b077-45a1-dc02-fd175e0813cb",
        "colab": {
          "base_uri": "https://localhost:8080/",
          "height": 545
        }
      },
      "source": [
        "acc = history.history['acc']\n",
        "val_acc = history.history['val_acc']\n",
        "loss = history.history['loss']\n",
        "val_loss = history.history['val_loss']\n",
        "\n",
        "epochs = range(len(acc))\n",
        "\n",
        "plt.plot(epochs, acc, 'bo', label='Training acc')\n",
        "plt.plot(epochs, val_acc, 'b', label='Validation acc')\n",
        "plt.title('Training and validation accuracy')\n",
        "plt.legend()\n",
        "\n",
        "plt.figure()\n",
        "\n",
        "plt.plot(epochs, loss, 'bo', label='Training loss')\n",
        "plt.plot(epochs, val_loss, 'b', label='Validation loss')\n",
        "plt.title('Training and validation loss')\n",
        "plt.legend()\n",
        "\n",
        "plt.show()"
      ],
      "execution_count": 20,
      "outputs": [
        {
          "output_type": "display_data",
          "data": {
            "image/png": "[encoded data removed]",
            "text/plain": [
              "<Figure size 432x288 with 1 Axes>"
            ]
          },
          "metadata": {
            "tags": [],
            "needs_background": "light"
          }
        },
        {
          "output_type": "display_data",
          "data": {
            "image/png": "[encoded data removed]",
            "text/plain": [
              "<Figure size 432x288 with 1 Axes>"
            ]
          },
          "metadata": {
            "tags": [],
            "needs_background": "light"
          }
        }
      ]
    }
  ]
}
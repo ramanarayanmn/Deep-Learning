{
 "cells": [
  {
   "cell_type": "code",
   "execution_count": 1,
   "metadata": {},
   "outputs": [
    {
     "name": "stderr",
     "output_type": "stream",
     "text": [
      "Using TensorFlow backend.\n"
     ]
    },
    {
     "data": {
      "text/plain": [
       "'2.3.1'"
      ]
     },
     "execution_count": 1,
     "metadata": {},
     "output_type": "execute_result"
    }
   ],
   "source": [
    "import keras\n",
    "keras.__version__"
   ]
  },
  {
   "cell_type": "code",
   "execution_count": 2,
   "metadata": {},
   "outputs": [
    {
     "name": "stdout",
     "output_type": "stream",
     "text": [
      "Downloading data from https://s3.amazonaws.com/text-datasets/imdb.npz\n",
      "17465344/17464789 [==============================] - 21s 1us/step\n"
     ]
    },
    {
     "name": "stderr",
     "output_type": "stream",
     "text": [
      "/usr/local/lib/python3.8/dist-packages/keras/datasets/imdb.py:101: VisibleDeprecationWarning: Creating an ndarray from ragged nested sequences (which is a list-or-tuple of lists-or-tuples-or ndarrays with different lengths or shapes) is deprecated. If you meant to do this, you must specify 'dtype=object' when creating the ndarray\n",
      "  x_train, y_train = np.array(xs[:idx]), np.array(labels[:idx])\n",
      "/usr/local/lib/python3.8/dist-packages/keras/datasets/imdb.py:102: VisibleDeprecationWarning: Creating an ndarray from ragged nested sequences (which is a list-or-tuple of lists-or-tuples-or ndarrays with different lengths or shapes) is deprecated. If you meant to do this, you must specify 'dtype=object' when creating the ndarray\n",
      "  x_test, y_test = np.array(xs[idx:]), np.array(labels[idx:])\n"
     ]
    }
   ],
   "source": [
    "\n",
    "from keras.datasets import imdb\n",
    "import numpy as np\n",
    "\n",
    "(train_data, train_labels), (test_data, test_labels) = imdb.load_data(num_words=10000)\n",
    "\n",
    "def vectorize_sequences(sequences, dimension=10000):\n",
    "    # Create an all-zero matrix of shape (len(sequences), dimension)\n",
    "    results = np.zeros((len(sequences), dimension))\n",
    "    for i, sequence in enumerate(sequences):\n",
    "        results[i, sequence] = 1.  # set specific indices of results[i] to 1s\n",
    "    return results\n",
    "\n",
    "# Our vectorized training data\n",
    "x_train = vectorize_sequences(train_data)\n",
    "# Our vectorized test data\n",
    "x_test = vectorize_sequences(test_data)\n",
    "# Our vectorized labels\n",
    "y_train = np.asarray(train_labels).astype('float32')\n",
    "y_test = np.asarray(test_labels).astype('float32')"
   ]
  },
  {
   "cell_type": "code",
   "execution_count": 3,
   "metadata": {},
   "outputs": [],
   "source": [
    "from keras import models\n",
    "from keras import layers\n",
    "\n",
    "original_model = models.Sequential()\n",
    "original_model.add(layers.Dense(16, activation='relu', input_shape=(10000,)))\n",
    "original_model.add(layers.Dense(16, activation='relu'))\n",
    "original_model.add(layers.Dense(1, activation='sigmoid'))\n",
    "\n",
    "original_model.compile(optimizer='rmsprop',\n",
    "                       loss='binary_crossentropy',\n",
    "                       metrics=['acc'])"
   ]
  },
  {
   "cell_type": "code",
   "execution_count": 4,
   "metadata": {},
   "outputs": [],
   "source": [
    "smaller_model = models.Sequential()\n",
    "smaller_model.add(layers.Dense(4, activation='relu', input_shape=(10000,)))\n",
    "smaller_model.add(layers.Dense(4, activation='relu'))\n",
    "smaller_model.add(layers.Dense(1, activation='sigmoid'))\n",
    "\n",
    "smaller_model.compile(optimizer='rmsprop',\n",
    "                      loss='binary_crossentropy',\n",
    "                      metrics=['acc'])"
   ]
  },
  {
   "cell_type": "code",
   "execution_count": 5,
   "metadata": {},
   "outputs": [
    {
     "name": "stdout",
     "output_type": "stream",
     "text": [
      "Train on 25000 samples, validate on 25000 samples\n",
      "Epoch 1/20\n",
      "25000/25000 [==============================] - 5s 186us/step - loss: 0.4835 - acc: 0.8017 - val_loss: 0.3482 - val_acc: 0.8799\n",
      "Epoch 2/20\n",
      "25000/25000 [==============================] - 3s 115us/step - loss: 0.2681 - acc: 0.9076 - val_loss: 0.2872 - val_acc: 0.8901\n",
      "Epoch 3/20\n",
      "25000/25000 [==============================] - 3s 113us/step - loss: 0.2025 - acc: 0.9273 - val_loss: 0.2867 - val_acc: 0.8866\n",
      "Epoch 4/20\n",
      "25000/25000 [==============================] - 3s 121us/step - loss: 0.1688 - acc: 0.9404 - val_loss: 0.2946 - val_acc: 0.8844\n",
      "Epoch 5/20\n",
      "25000/25000 [==============================] - 3s 116us/step - loss: 0.1474 - acc: 0.9486 - val_loss: 0.3171 - val_acc: 0.8794\n",
      "Epoch 6/20\n",
      "25000/25000 [==============================] - 3s 133us/step - loss: 0.1285 - acc: 0.9546 - val_loss: 0.3335 - val_acc: 0.8766\n",
      "Epoch 7/20\n",
      "25000/25000 [==============================] - 3s 121us/step - loss: 0.1135 - acc: 0.9608 - val_loss: 0.3607 - val_acc: 0.8722\n",
      "Epoch 8/20\n",
      "25000/25000 [==============================] - 3s 120us/step - loss: 0.0991 - acc: 0.9669 - val_loss: 0.3828 - val_acc: 0.8684\n",
      "Epoch 9/20\n",
      "25000/25000 [==============================] - 3s 111us/step - loss: 0.0887 - acc: 0.9702 - val_loss: 0.4163 - val_acc: 0.8679\n",
      "Epoch 10/20\n",
      "25000/25000 [==============================] - 3s 114us/step - loss: 0.0808 - acc: 0.9730 - val_loss: 0.4985 - val_acc: 0.8574\n",
      "Epoch 11/20\n",
      "25000/25000 [==============================] - 3s 111us/step - loss: 0.0689 - acc: 0.9786 - val_loss: 0.4715 - val_acc: 0.8633\n",
      "Epoch 12/20\n",
      "25000/25000 [==============================] - 3s 114us/step - loss: 0.0602 - acc: 0.9820 - val_loss: 0.5012 - val_acc: 0.8576\n",
      "Epoch 13/20\n",
      "25000/25000 [==============================] - 3s 114us/step - loss: 0.0539 - acc: 0.9834 - val_loss: 0.5358 - val_acc: 0.8591\n",
      "Epoch 14/20\n",
      "25000/25000 [==============================] - 3s 112us/step - loss: 0.0447 - acc: 0.9874 - val_loss: 0.5663 - val_acc: 0.8572\n",
      "Epoch 15/20\n",
      "25000/25000 [==============================] - 3s 112us/step - loss: 0.0398 - acc: 0.9884 - val_loss: 0.6370 - val_acc: 0.8466\n",
      "Epoch 16/20\n",
      "25000/25000 [==============================] - 3s 114us/step - loss: 0.0324 - acc: 0.9911 - val_loss: 0.6549 - val_acc: 0.8547\n",
      "Epoch 17/20\n",
      "25000/25000 [==============================] - 3s 114us/step - loss: 0.0292 - acc: 0.9924 - val_loss: 0.6803 - val_acc: 0.8515\n",
      "Epoch 18/20\n",
      "25000/25000 [==============================] - 3s 114us/step - loss: 0.0220 - acc: 0.9947 - val_loss: 0.7323 - val_acc: 0.8529\n",
      "Epoch 19/20\n",
      "25000/25000 [==============================] - 3s 110us/step - loss: 0.0194 - acc: 0.9954 - val_loss: 0.7860 - val_acc: 0.8430\n",
      "Epoch 20/20\n",
      "25000/25000 [==============================] - 3s 111us/step - loss: 0.0181 - acc: 0.9953 - val_loss: 0.8066 - val_acc: 0.8499\n"
     ]
    }
   ],
   "source": [
    "original_hist = original_model.fit(x_train, y_train,\n",
    "                                   epochs=20,\n",
    "                                   batch_size=512,\n",
    "                                   validation_data=(x_test, y_test))"
   ]
  },
  {
   "cell_type": "code",
   "execution_count": 6,
   "metadata": {},
   "outputs": [
    {
     "name": "stdout",
     "output_type": "stream",
     "text": [
      "Train on 25000 samples, validate on 25000 samples\n",
      "Epoch 1/20\n",
      "25000/25000 [==============================] - 3s 119us/step - loss: 0.5550 - acc: 0.8047 - val_loss: 0.4686 - val_acc: 0.8558\n",
      "Epoch 2/20\n",
      "25000/25000 [==============================] - 3s 106us/step - loss: 0.3829 - acc: 0.8846 - val_loss: 0.3652 - val_acc: 0.8701\n",
      "Epoch 3/20\n",
      "25000/25000 [==============================] - 3s 103us/step - loss: 0.2845 - acc: 0.9080 - val_loss: 0.3099 - val_acc: 0.8832\n",
      "Epoch 4/20\n",
      "25000/25000 [==============================] - 3s 103us/step - loss: 0.2353 - acc: 0.9207 - val_loss: 0.2902 - val_acc: 0.8866\n",
      "Epoch 5/20\n",
      "25000/25000 [==============================] - 3s 115us/step - loss: 0.2035 - acc: 0.9299 - val_loss: 0.2781 - val_acc: 0.8905\n",
      "Epoch 6/20\n",
      "25000/25000 [==============================] - 3s 126us/step - loss: 0.1800 - acc: 0.9378 - val_loss: 0.2787 - val_acc: 0.8892\n",
      "Epoch 7/20\n",
      "25000/25000 [==============================] - 3s 107us/step - loss: 0.1627 - acc: 0.9450 - val_loss: 0.2841 - val_acc: 0.8869\n",
      "Epoch 8/20\n",
      "25000/25000 [==============================] - 3s 112us/step - loss: 0.1482 - acc: 0.9506 - val_loss: 0.2908 - val_acc: 0.8850\n",
      "Epoch 9/20\n",
      "25000/25000 [==============================] - 3s 108us/step - loss: 0.1360 - acc: 0.9548 - val_loss: 0.3049 - val_acc: 0.8814\n",
      "Epoch 10/20\n",
      "25000/25000 [==============================] - 2s 99us/step - loss: 0.1250 - acc: 0.9592 - val_loss: 0.3133 - val_acc: 0.8808\n",
      "Epoch 11/20\n",
      "25000/25000 [==============================] - 3s 106us/step - loss: 0.1156 - acc: 0.9626 - val_loss: 0.3293 - val_acc: 0.8768\n",
      "Epoch 12/20\n",
      "25000/25000 [==============================] - 3s 105us/step - loss: 0.1078 - acc: 0.9661 - val_loss: 0.3460 - val_acc: 0.8732\n",
      "Epoch 13/20\n",
      "25000/25000 [==============================] - 3s 105us/step - loss: 0.1001 - acc: 0.9688 - val_loss: 0.3608 - val_acc: 0.8712\n",
      "Epoch 14/20\n",
      "25000/25000 [==============================] - 3s 109us/step - loss: 0.0928 - acc: 0.9718 - val_loss: 0.3752 - val_acc: 0.8723\n",
      "Epoch 15/20\n",
      "25000/25000 [==============================] - 3s 108us/step - loss: 0.0874 - acc: 0.9739 - val_loss: 0.3901 - val_acc: 0.8701\n",
      "Epoch 16/20\n",
      "25000/25000 [==============================] - 3s 105us/step - loss: 0.0814 - acc: 0.9755 - val_loss: 0.4045 - val_acc: 0.8680\n",
      "Epoch 17/20\n",
      "25000/25000 [==============================] - 3s 105us/step - loss: 0.0759 - acc: 0.9779 - val_loss: 0.4220 - val_acc: 0.8661\n",
      "Epoch 18/20\n",
      "25000/25000 [==============================] - 3s 105us/step - loss: 0.0703 - acc: 0.9804 - val_loss: 0.4420 - val_acc: 0.8651\n",
      "Epoch 19/20\n",
      "25000/25000 [==============================] - 3s 115us/step - loss: 0.0656 - acc: 0.9815 - val_loss: 0.4582 - val_acc: 0.8636\n",
      "Epoch 20/20\n",
      "25000/25000 [==============================] - 3s 107us/step - loss: 0.0609 - acc: 0.9832 - val_loss: 0.4896 - val_acc: 0.8590\n"
     ]
    }
   ],
   "source": [
    "smaller_model_hist = smaller_model.fit(x_train, y_train,\n",
    "                                       epochs=20,\n",
    "                                       batch_size=512,\n",
    "                                       validation_data=(x_test, y_test))"
   ]
  },
  {
   "cell_type": "code",
   "execution_count": 7,
   "metadata": {},
   "outputs": [],
   "source": [
    "epochs = range(1, 21)\n",
    "original_val_loss = original_hist.history['val_loss']\n",
    "smaller_model_val_loss = smaller_model_hist.history['val_loss']"
   ]
  },
  {
   "cell_type": "code",
   "execution_count": 8,
   "metadata": {},
   "outputs": [
    {
     "data": {
      "image/png": "[encoded data removed]",
      "text/plain": [
       "<Figure size 432x288 with 1 Axes>"
      ]
     },
     "metadata": {
      "needs_background": "light"
     },
     "output_type": "display_data"
    }
   ],
   "source": [
    "\n",
    "import matplotlib.pyplot as plt\n",
    "\n",
    "# b+ is for \"blue cross\"\n",
    "plt.plot(epochs, original_val_loss, 'b+', label='Original model')\n",
    "# \"bo\" is for \"blue dot\"\n",
    "plt.plot(epochs, smaller_model_val_loss, 'bo', label='Smaller model')\n",
    "plt.xlabel('Epochs')\n",
    "plt.ylabel('Validation loss')\n",
    "plt.legend()\n",
    "\n",
    "plt.show()"
   ]
  },
  {
   "cell_type": "code",
   "execution_count": 9,
   "metadata": {},
   "outputs": [],
   "source": [
    "bigger_model = models.Sequential()\n",
    "bigger_model.add(layers.Dense(512, activation='relu', input_shape=(10000,)))\n",
    "bigger_model.add(layers.Dense(512, activation='relu'))\n",
    "bigger_model.add(layers.Dense(1, activation='sigmoid'))\n",
    "\n",
    "bigger_model.compile(optimizer='rmsprop',\n",
    "                     loss='binary_crossentropy',\n",
    "                     metrics=['acc'])"
   ]
  },
  {
   "cell_type": "code",
   "execution_count": 10,
   "metadata": {},
   "outputs": [
    {
     "name": "stdout",
     "output_type": "stream",
     "text": [
      "Train on 25000 samples, validate on 25000 samples\n",
      "Epoch 1/20\n",
      "25000/25000 [==============================] - 13s 502us/step - loss: 0.4605 - acc: 0.7968 - val_loss: 0.3625 - val_acc: 0.8434\n",
      "Epoch 2/20\n",
      "25000/25000 [==============================] - 11s 455us/step - loss: 0.2160 - acc: 0.9151 - val_loss: 0.3756 - val_acc: 0.8448\n",
      "Epoch 3/20\n",
      "25000/25000 [==============================] - 12s 469us/step - loss: 0.1252 - acc: 0.9540 - val_loss: 0.3310 - val_acc: 0.8839\n",
      "Epoch 4/20\n",
      "25000/25000 [==============================] - 11s 453us/step - loss: 0.0593 - acc: 0.9820 - val_loss: 0.7612 - val_acc: 0.8220\n",
      "Epoch 5/20\n",
      "25000/25000 [==============================] - 11s 457us/step - loss: 0.0614 - acc: 0.9825 - val_loss: 0.4639 - val_acc: 0.8542\n",
      "Epoch 6/20\n",
      "25000/25000 [==============================] - 12s 484us/step - loss: 0.0042 - acc: 0.9997 - val_loss: 0.6905 - val_acc: 0.8787\n",
      "Epoch 7/20\n",
      "25000/25000 [==============================] - 12s 476us/step - loss: 3.1060e-04 - acc: 1.0000 - val_loss: 0.8983 - val_acc: 0.8770\n",
      "Epoch 8/20\n",
      "25000/25000 [==============================] - 12s 488us/step - loss: 0.1989 - acc: 0.9886 - val_loss: 0.9020 - val_acc: 0.8603\n",
      "Epoch 9/20\n",
      "25000/25000 [==============================] - 12s 477us/step - loss: 3.5052e-04 - acc: 1.0000 - val_loss: 0.8308 - val_acc: 0.8769\n",
      "Epoch 10/20\n",
      "25000/25000 [==============================] - 11s 456us/step - loss: 3.1247e-05 - acc: 1.0000 - val_loss: 0.9739 - val_acc: 0.8766\n",
      "Epoch 11/20\n",
      "25000/25000 [==============================] - 11s 451us/step - loss: 5.8964e-06 - acc: 1.0000 - val_loss: 1.1297 - val_acc: 0.8764\n",
      "Epoch 12/20\n",
      "25000/25000 [==============================] - 11s 443us/step - loss: 9.7512e-07 - acc: 1.0000 - val_loss: 1.2494 - val_acc: 0.8776\n",
      "Epoch 13/20\n",
      "25000/25000 [==============================] - 11s 458us/step - loss: 1.7234e-07 - acc: 1.0000 - val_loss: 1.3957 - val_acc: 0.8769\n",
      "Epoch 14/20\n",
      "25000/25000 [==============================] - 11s 456us/step - loss: 4.6225e-08 - acc: 1.0000 - val_loss: 1.4806 - val_acc: 0.8776\n",
      "Epoch 15/20\n",
      "25000/25000 [==============================] - 12s 460us/step - loss: 2.0622e-08 - acc: 1.0000 - val_loss: 1.5345 - val_acc: 0.8772\n",
      "Epoch 16/20\n",
      "25000/25000 [==============================] - 12s 489us/step - loss: 1.2970e-08 - acc: 1.0000 - val_loss: 1.5691 - val_acc: 0.8771\n",
      "Epoch 17/20\n",
      "25000/25000 [==============================] - 12s 493us/step - loss: 9.5074e-09 - acc: 1.0000 - val_loss: 1.5905 - val_acc: 0.8774\n",
      "Epoch 18/20\n",
      "25000/25000 [==============================] - 12s 464us/step - loss: 7.5252e-09 - acc: 1.0000 - val_loss: 1.6043 - val_acc: 0.8772\n",
      "Epoch 19/20\n",
      "25000/25000 [==============================] - 11s 447us/step - loss: 6.2234e-09 - acc: 1.0000 - val_loss: 1.6228 - val_acc: 0.8774\n",
      "Epoch 20/20\n",
      "25000/25000 [==============================] - 11s 434us/step - loss: 5.3339e-09 - acc: 1.0000 - val_loss: 1.6349 - val_acc: 0.8774\n"
     ]
    }
   ],
   "source": [
    "bigger_model_hist = bigger_model.fit(x_train, y_train,\n",
    "                                     epochs=20,\n",
    "                                     batch_size=512,\n",
    "                                     validation_data=(x_test, y_test))"
   ]
  },
  {
   "cell_type": "code",
   "execution_count": 11,
   "metadata": {},
   "outputs": [
    {
     "data": {
      "image/png": "[encoded data removed]",
      "text/plain": [
       "<Figure size 432x288 with 1 Axes>"
      ]
     },
     "metadata": {
      "needs_background": "light"
     },
     "output_type": "display_data"
    }
   ],
   "source": [
    "bigger_model_val_loss = bigger_model_hist.history['val_loss']\n",
    "\n",
    "plt.plot(epochs, original_val_loss, 'b+', label='Original model')\n",
    "plt.plot(epochs, bigger_model_val_loss, 'bo', label='Bigger model')\n",
    "plt.xlabel('Epochs')\n",
    "plt.ylabel('Validation loss')\n",
    "plt.legend()\n",
    "\n",
    "plt.show()"
   ]
  },
  {
   "cell_type": "code",
   "execution_count": 12,
   "metadata": {},
   "outputs": [
    {
     "data": {
      "image/png": "[encoded data removed]",
      "text/plain": [
       "<Figure size 432x288 with 1 Axes>"
      ]
     },
     "metadata": {
      "needs_background": "light"
     },
     "output_type": "display_data"
    }
   ],
   "source": [
    "original_train_loss = original_hist.history['loss']\n",
    "bigger_model_train_loss = bigger_model_hist.history['loss']\n",
    "\n",
    "plt.plot(epochs, original_train_loss, 'b+', label='Original model')\n",
    "plt.plot(epochs, bigger_model_train_loss, 'bo', label='Bigger model')\n",
    "plt.xlabel('Epochs')\n",
    "plt.ylabel('Training loss')\n",
    "plt.legend()\n",
    "\n",
    "plt.show()"
   ]
  },
  {
   "cell_type": "code",
   "execution_count": 13,
   "metadata": {},
   "outputs": [],
   "source": [
    "from keras import regularizers\n",
    "\n",
    "l2_model = models.Sequential()\n",
    "l2_model.add(layers.Dense(16, kernel_regularizer=regularizers.l2(0.001),\n",
    "                          activation='relu', input_shape=(10000,)))\n",
    "l2_model.add(layers.Dense(16, kernel_regularizer=regularizers.l2(0.001),\n",
    "                          activation='relu'))\n",
    "l2_model.add(layers.Dense(1, activation='sigmoid'))"
   ]
  },
  {
   "cell_type": "code",
   "execution_count": 14,
   "metadata": {},
   "outputs": [],
   "source": [
    "l2_model.compile(optimizer='rmsprop',\n",
    "                 loss='binary_crossentropy',\n",
    "                 metrics=['acc'])"
   ]
  },
  {
   "cell_type": "code",
   "execution_count": 15,
   "metadata": {},
   "outputs": [
    {
     "name": "stdout",
     "output_type": "stream",
     "text": [
      "Train on 25000 samples, validate on 25000 samples\n",
      "Epoch 1/20\n",
      "25000/25000 [==============================] - 3s 102us/step - loss: 0.4989 - acc: 0.8216 - val_loss: 0.3898 - val_acc: 0.8731\n",
      "Epoch 2/20\n",
      "25000/25000 [==============================] - 2s 90us/step - loss: 0.3184 - acc: 0.9041 - val_loss: 0.3510 - val_acc: 0.8779\n",
      "Epoch 3/20\n",
      "25000/25000 [==============================] - 2s 94us/step - loss: 0.2735 - acc: 0.9182 - val_loss: 0.3300 - val_acc: 0.8888\n",
      "Epoch 4/20\n",
      "25000/25000 [==============================] - 2s 95us/step - loss: 0.2535 - acc: 0.9263 - val_loss: 0.3326 - val_acc: 0.8872\n",
      "Epoch 5/20\n",
      "25000/25000 [==============================] - 2s 96us/step - loss: 0.2413 - acc: 0.9321 - val_loss: 0.3430 - val_acc: 0.8827\n",
      "Epoch 6/20\n",
      "25000/25000 [==============================] - 2s 94us/step - loss: 0.2342 - acc: 0.9343 - val_loss: 0.3459 - val_acc: 0.8825\n",
      "Epoch 7/20\n",
      "25000/25000 [==============================] - 2s 96us/step - loss: 0.2284 - acc: 0.9375 - val_loss: 0.3553 - val_acc: 0.8814\n",
      "Epoch 8/20\n",
      "25000/25000 [==============================] - 2s 92us/step - loss: 0.2199 - acc: 0.9401 - val_loss: 0.3594 - val_acc: 0.8795\n",
      "Epoch 9/20\n",
      "25000/25000 [==============================] - 2s 96us/step - loss: 0.2162 - acc: 0.9422 - val_loss: 0.4005 - val_acc: 0.8666\n",
      "Epoch 10/20\n",
      "25000/25000 [==============================] - 2s 91us/step - loss: 0.2121 - acc: 0.9437 - val_loss: 0.3812 - val_acc: 0.8735\n",
      "Epoch 11/20\n",
      "25000/25000 [==============================] - 2s 96us/step - loss: 0.2081 - acc: 0.9460 - val_loss: 0.4007 - val_acc: 0.8687\n",
      "Epoch 12/20\n",
      "25000/25000 [==============================] - 2s 93us/step - loss: 0.2035 - acc: 0.9480 - val_loss: 0.3885 - val_acc: 0.8736\n",
      "Epoch 13/20\n",
      "25000/25000 [==============================] - 2s 97us/step - loss: 0.2030 - acc: 0.9460 - val_loss: 0.3902 - val_acc: 0.8724\n",
      "Epoch 14/20\n",
      "25000/25000 [==============================] - 2s 93us/step - loss: 0.1978 - acc: 0.9492 - val_loss: 0.3991 - val_acc: 0.8706\n",
      "Epoch 15/20\n",
      "25000/25000 [==============================] - 2s 98us/step - loss: 0.1918 - acc: 0.9520 - val_loss: 0.4039 - val_acc: 0.8697\n",
      "Epoch 16/20\n",
      "25000/25000 [==============================] - 2s 93us/step - loss: 0.1944 - acc: 0.9493 - val_loss: 0.4227 - val_acc: 0.8670\n",
      "Epoch 17/20\n",
      "25000/25000 [==============================] - 2s 98us/step - loss: 0.1847 - acc: 0.9546 - val_loss: 0.4068 - val_acc: 0.8698\n",
      "Epoch 18/20\n",
      "25000/25000 [==============================] - 2s 93us/step - loss: 0.1878 - acc: 0.9518 - val_loss: 0.4365 - val_acc: 0.8623\n",
      "Epoch 19/20\n",
      "25000/25000 [==============================] - 2s 98us/step - loss: 0.1814 - acc: 0.9552 - val_loss: 0.4187 - val_acc: 0.8689\n",
      "Epoch 20/20\n",
      "25000/25000 [==============================] - 2s 93us/step - loss: 0.1759 - acc: 0.9584 - val_loss: 0.4602 - val_acc: 0.8604\n"
     ]
    }
   ],
   "source": [
    "l2_model_hist = l2_model.fit(x_train, y_train,\n",
    "                             epochs=20,\n",
    "                             batch_size=512,\n",
    "                             validation_data=(x_test, y_test))"
   ]
  },
  {
   "cell_type": "code",
   "execution_count": 16,
   "metadata": {},
   "outputs": [
    {
     "data": {
      "image/png": "[encoded data removed]",
      "text/plain": [
       "<Figure size 432x288 with 1 Axes>"
      ]
     },
     "metadata": {
      "needs_background": "light"
     },
     "output_type": "display_data"
    }
   ],
   "source": [
    "l2_model_val_loss = l2_model_hist.history['val_loss']\n",
    "\n",
    "plt.plot(epochs, original_val_loss, 'b+', label='Original model')\n",
    "plt.plot(epochs, l2_model_val_loss, 'bo', label='L2-regularized model')\n",
    "plt.xlabel('Epochs')\n",
    "plt.ylabel('Validation loss')\n",
    "plt.legend()\n",
    "\n",
    "plt.show()"
   ]
  },
  {
   "cell_type": "code",
   "execution_count": 17,
   "metadata": {},
   "outputs": [],
   "source": [
    "dpt_model = models.Sequential()\n",
    "dpt_model.add(layers.Dense(16, activation='relu', input_shape=(10000,)))\n",
    "dpt_model.add(layers.Dropout(0.5))\n",
    "dpt_model.add(layers.Dense(16, activation='relu'))\n",
    "dpt_model.add(layers.Dropout(0.5))\n",
    "dpt_model.add(layers.Dense(1, activation='sigmoid'))\n",
    "\n",
    "dpt_model.compile(optimizer='rmsprop',\n",
    "                  loss='binary_crossentropy',\n",
    "                  metrics=['acc'])"
   ]
  },
  {
   "cell_type": "code",
   "execution_count": 18,
   "metadata": {},
   "outputs": [
    {
     "name": "stdout",
     "output_type": "stream",
     "text": [
      "Train on 25000 samples, validate on 25000 samples\n",
      "Epoch 1/20\n",
      "25000/25000 [==============================] - 3s 103us/step - loss: 0.6155 - acc: 0.6557 - val_loss: 0.4881 - val_acc: 0.8549\n",
      "Epoch 2/20\n",
      "25000/25000 [==============================] - 2s 89us/step - loss: 0.4804 - acc: 0.7986 - val_loss: 0.3715 - val_acc: 0.8816\n",
      "Epoch 3/20\n",
      "25000/25000 [==============================] - 2s 94us/step - loss: 0.3891 - acc: 0.8541 - val_loss: 0.3170 - val_acc: 0.8848\n",
      "Epoch 4/20\n",
      "25000/25000 [==============================] - 2s 91us/step - loss: 0.3282 - acc: 0.8834 - val_loss: 0.2839 - val_acc: 0.8902\n",
      "Epoch 5/20\n",
      "25000/25000 [==============================] - 2s 94us/step - loss: 0.2863 - acc: 0.9015 - val_loss: 0.2778 - val_acc: 0.8909\n",
      "Epoch 6/20\n",
      "25000/25000 [==============================] - 2s 90us/step - loss: 0.2578 - acc: 0.9130 - val_loss: 0.2804 - val_acc: 0.8896\n",
      "Epoch 7/20\n",
      "25000/25000 [==============================] - 2s 95us/step - loss: 0.2296 - acc: 0.9220 - val_loss: 0.2864 - val_acc: 0.8882\n",
      "Epoch 8/20\n",
      "25000/25000 [==============================] - 2s 91us/step - loss: 0.2076 - acc: 0.9279 - val_loss: 0.2999 - val_acc: 0.8870\n",
      "Epoch 9/20\n",
      "25000/25000 [==============================] - 2s 95us/step - loss: 0.1938 - acc: 0.9355 - val_loss: 0.3350 - val_acc: 0.8847\n",
      "Epoch 10/20\n",
      "25000/25000 [==============================] - 2s 91us/step - loss: 0.1830 - acc: 0.9406 - val_loss: 0.3464 - val_acc: 0.8834\n",
      "Epoch 11/20\n",
      "25000/25000 [==============================] - 2s 95us/step - loss: 0.1714 - acc: 0.9424 - val_loss: 0.3548 - val_acc: 0.8833\n",
      "Epoch 12/20\n",
      "25000/25000 [==============================] - 2s 92us/step - loss: 0.1599 - acc: 0.9455 - val_loss: 0.3716 - val_acc: 0.8813\n",
      "Epoch 13/20\n",
      "25000/25000 [==============================] - 2s 95us/step - loss: 0.1549 - acc: 0.9480 - val_loss: 0.4022 - val_acc: 0.8808\n",
      "Epoch 14/20\n",
      "25000/25000 [==============================] - 2s 91us/step - loss: 0.1471 - acc: 0.9515 - val_loss: 0.4216 - val_acc: 0.8807\n",
      "Epoch 15/20\n",
      "25000/25000 [==============================] - 2s 96us/step - loss: 0.1397 - acc: 0.9519 - val_loss: 0.4303 - val_acc: 0.8803\n",
      "Epoch 16/20\n",
      "25000/25000 [==============================] - 2s 91us/step - loss: 0.1361 - acc: 0.9529 - val_loss: 0.4704 - val_acc: 0.8785\n",
      "Epoch 17/20\n",
      "25000/25000 [==============================] - 2s 96us/step - loss: 0.1335 - acc: 0.9534 - val_loss: 0.4786 - val_acc: 0.8778\n",
      "Epoch 18/20\n",
      "25000/25000 [==============================] - 2s 91us/step - loss: 0.1334 - acc: 0.9524 - val_loss: 0.4811 - val_acc: 0.8778\n",
      "Epoch 19/20\n",
      "25000/25000 [==============================] - 2s 95us/step - loss: 0.1272 - acc: 0.9563 - val_loss: 0.5184 - val_acc: 0.8773\n",
      "Epoch 20/20\n",
      "25000/25000 [==============================] - 2s 96us/step - loss: 0.1240 - acc: 0.9564 - val_loss: 0.5378 - val_acc: 0.8763\n"
     ]
    }
   ],
   "source": [
    "dpt_model_hist = dpt_model.fit(x_train, y_train,\n",
    "                               epochs=20,\n",
    "                               batch_size=512,\n",
    "                               validation_data=(x_test, y_test))"
   ]
  },
  {
   "cell_type": "code",
   "execution_count": 19,
   "metadata": {},
   "outputs": [
    {
     "data": {
      "image/png": "[encoded data removed]",
      "text/plain": [
       "<Figure size 432x288 with 1 Axes>"
      ]
     },
     "metadata": {
      "needs_background": "light"
     },
     "output_type": "display_data"
    }
   ],
   "source": [
    "dpt_model_val_loss = dpt_model_hist.history['val_loss']\n",
    "\n",
    "plt.plot(epochs, original_val_loss, 'b+', label='Original model')\n",
    "plt.plot(epochs, dpt_model_val_loss, 'bo', label='Dropout-regularized model')\n",
    "plt.xlabel('Epochs')\n",
    "plt.ylabel('Validation loss')\n",
    "plt.legend()\n",
    "\n",
    "plt.show()"
   ]
  },
  {
   "cell_type": "code",
   "execution_count": null,
   "metadata": {},
   "outputs": [],
   "source": []
  }
 ],
 "metadata": {
  "kernelspec": {
   "display_name": "Python 3",
   "language": "python",
   "name": "python3"
  },
  "language_info": {
   "codemirror_mode": {
    "name": "ipython",
    "version": 3
   },
   "file_extension": ".py",
   "mimetype": "text/x-python",
   "name": "python",
   "nbconvert_exporter": "python",
   "pygments_lexer": "ipython3",
   "version": "3.8.5"
  }
 },
 "nbformat": 4,
 "nbformat_minor": 4
}

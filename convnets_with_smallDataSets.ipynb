{
 "cells": [
  {
   "cell_type": "code",
   "execution_count": 1,
   "metadata": {},
   "outputs": [],
   "source": [
    "train_dir = '/home/rama/Documents/cats_and_dogs_small/train'\n",
    "test_dir = '/home/rama/Documents/cats_and_dogs_small/test'\n",
    "validation_dir = '/home/rama/Documents/cats_and_dogs_small/validation'"
   ]
  },
  {
   "cell_type": "code",
   "execution_count": 2,
   "metadata": {},
   "outputs": [
    {
     "name": "stderr",
     "output_type": "stream",
     "text": [
      "Using TensorFlow backend.\n"
     ]
    }
   ],
   "source": [
    "from keras import layers\n",
    "from keras import models\n",
    "\n",
    "model = models.Sequential()\n",
    "model.add(layers.Conv2D(32, (3, 3), activation='relu',\n",
    "                        input_shape=(150, 150, 3)))\n",
    "model.add(layers.MaxPooling2D((2, 2)))\n",
    "model.add(layers.Conv2D(64, (3, 3), activation='relu'))\n",
    "model.add(layers.MaxPooling2D((2, 2)))\n",
    "model.add(layers.Conv2D(128, (3, 3), activation='relu'))\n",
    "model.add(layers.MaxPooling2D((2, 2)))\n",
    "model.add(layers.Conv2D(128, (3, 3), activation='relu'))\n",
    "model.add(layers.MaxPooling2D((2, 2)))\n",
    "model.add(layers.Flatten())\n",
    "model.add(layers.Dense(512, activation='relu'))\n",
    "model.add(layers.Dense(1, activation='sigmoid'))"
   ]
  },
  {
   "cell_type": "code",
   "execution_count": 3,
   "metadata": {},
   "outputs": [
    {
     "name": "stdout",
     "output_type": "stream",
     "text": [
      "Model: \"sequential_1\"\n",
      "_________________________________________________________________\n",
      "Layer (type)                 Output Shape              Param #   \n",
      "=================================================================\n",
      "conv2d_1 (Conv2D)            (None, 148, 148, 32)      896       \n",
      "_________________________________________________________________\n",
      "max_pooling2d_1 (MaxPooling2 (None, 74, 74, 32)        0         \n",
      "_________________________________________________________________\n",
      "conv2d_2 (Conv2D)            (None, 72, 72, 64)        18496     \n",
      "_________________________________________________________________\n",
      "max_pooling2d_2 (MaxPooling2 (None, 36, 36, 64)        0         \n",
      "_________________________________________________________________\n",
      "conv2d_3 (Conv2D)            (None, 34, 34, 128)       73856     \n",
      "_________________________________________________________________\n",
      "max_pooling2d_3 (MaxPooling2 (None, 17, 17, 128)       0         \n",
      "_________________________________________________________________\n",
      "conv2d_4 (Conv2D)            (None, 15, 15, 128)       147584    \n",
      "_________________________________________________________________\n",
      "max_pooling2d_4 (MaxPooling2 (None, 7, 7, 128)         0         \n",
      "_________________________________________________________________\n",
      "flatten_1 (Flatten)          (None, 6272)              0         \n",
      "_________________________________________________________________\n",
      "dense_1 (Dense)              (None, 512)               3211776   \n",
      "_________________________________________________________________\n",
      "dense_2 (Dense)              (None, 1)                 513       \n",
      "=================================================================\n",
      "Total params: 3,453,121\n",
      "Trainable params: 3,453,121\n",
      "Non-trainable params: 0\n",
      "_________________________________________________________________\n"
     ]
    }
   ],
   "source": [
    "model.summary()"
   ]
  },
  {
   "cell_type": "code",
   "execution_count": 4,
   "metadata": {},
   "outputs": [],
   "source": [
    "model.compile(optimizer='rmsprop',loss='binary_crossentropy',metrics=['acc'])"
   ]
  },
  {
   "cell_type": "markdown",
   "metadata": {},
   "source": [
    "## Data Pre-Processing"
   ]
  },
  {
   "cell_type": "code",
   "execution_count": 5,
   "metadata": {},
   "outputs": [
    {
     "name": "stdout",
     "output_type": "stream",
     "text": [
      "Found 2000 images belonging to 2 classes.\n",
      "Found 1000 images belonging to 2 classes.\n"
     ]
    }
   ],
   "source": [
    "from keras.preprocessing.image import ImageDataGenerator\n",
    "\n",
    "train_datagen = ImageDataGenerator(rescale=1./255)\n",
    "test_datagen = ImageDataGenerator(rescale=1./255)\n",
    "\n",
    "train_generator = train_datagen.flow_from_directory(\n",
    "                train_dir,\n",
    "                target_size = (150,150),\n",
    "                batch_size = 20,\n",
    "                class_mode = 'binary')\n",
    "validation_generator = test_datagen.flow_from_directory(\n",
    "                validation_dir,\n",
    "                target_size = (150,150),\n",
    "                batch_size = 20,\n",
    "                class_mode = 'binary')"
   ]
  },
  {
   "cell_type": "code",
   "execution_count": 6,
   "metadata": {},
   "outputs": [
    {
     "name": "stdout",
     "output_type": "stream",
     "text": [
      "Epoch 1/30\n",
      "100/100 [==============================] - 79s 789ms/step - loss: 0.7439 - acc: 0.5170 - val_loss: 0.6837 - val_acc: 0.5330\n",
      "Epoch 2/30\n",
      "100/100 [==============================] - 79s 792ms/step - loss: 0.7059 - acc: 0.5445 - val_loss: 0.6716 - val_acc: 0.6070\n",
      "Epoch 3/30\n",
      "100/100 [==============================] - 79s 791ms/step - loss: 0.6519 - acc: 0.6215 - val_loss: 0.6827 - val_acc: 0.6590\n",
      "Epoch 4/30\n",
      "100/100 [==============================] - 80s 801ms/step - loss: 0.5889 - acc: 0.6905 - val_loss: 0.6999 - val_acc: 0.7030\n",
      "Epoch 5/30\n",
      "100/100 [==============================] - 80s 796ms/step - loss: 0.5428 - acc: 0.7170 - val_loss: 0.5586 - val_acc: 0.7020\n",
      "Epoch 6/30\n",
      "100/100 [==============================] - 79s 792ms/step - loss: 0.5133 - acc: 0.7525 - val_loss: 0.6417 - val_acc: 0.7400\n",
      "Epoch 7/30\n",
      "100/100 [==============================] - 79s 792ms/step - loss: 0.4759 - acc: 0.7690 - val_loss: 0.7471 - val_acc: 0.7300\n",
      "Epoch 8/30\n",
      "100/100 [==============================] - 80s 798ms/step - loss: 0.4116 - acc: 0.8060 - val_loss: 0.9309 - val_acc: 0.7080\n",
      "Epoch 9/30\n",
      "100/100 [==============================] - 80s 796ms/step - loss: 0.3830 - acc: 0.8305 - val_loss: 0.6416 - val_acc: 0.7660\n",
      "Epoch 10/30\n",
      "100/100 [==============================] - 79s 794ms/step - loss: 0.3188 - acc: 0.8610 - val_loss: 0.4807 - val_acc: 0.7560\n",
      "Epoch 11/30\n",
      "100/100 [==============================] - 79s 795ms/step - loss: 0.2712 - acc: 0.8850 - val_loss: 0.5394 - val_acc: 0.7000\n",
      "Epoch 12/30\n",
      "100/100 [==============================] - 79s 793ms/step - loss: 0.2073 - acc: 0.9160 - val_loss: 1.6826 - val_acc: 0.7420\n",
      "Epoch 13/30\n",
      "100/100 [==============================] - 80s 796ms/step - loss: 0.1938 - acc: 0.9290 - val_loss: 1.3651 - val_acc: 0.7520\n",
      "Epoch 14/30\n",
      "100/100 [==============================] - 79s 793ms/step - loss: 0.1365 - acc: 0.9405 - val_loss: 0.3515 - val_acc: 0.7320\n",
      "Epoch 15/30\n",
      "100/100 [==============================] - 79s 787ms/step - loss: 0.1131 - acc: 0.9595 - val_loss: 0.6174 - val_acc: 0.7570\n",
      "Epoch 16/30\n",
      "100/100 [==============================] - 78s 785ms/step - loss: 0.1058 - acc: 0.9625 - val_loss: 0.7582 - val_acc: 0.7350\n",
      "Epoch 17/30\n",
      "100/100 [==============================] - 79s 788ms/step - loss: 0.0882 - acc: 0.9700 - val_loss: 1.5195 - val_acc: 0.7500\n",
      "Epoch 18/30\n",
      "100/100 [==============================] - 79s 793ms/step - loss: 0.0605 - acc: 0.9815 - val_loss: 0.9602 - val_acc: 0.7300\n",
      "Epoch 19/30\n",
      "100/100 [==============================] - 79s 792ms/step - loss: 0.0587 - acc: 0.9765 - val_loss: 1.0583 - val_acc: 0.7270\n",
      "Epoch 20/30\n",
      "100/100 [==============================] - 81s 810ms/step - loss: 0.1190 - acc: 0.9745 - val_loss: 2.1986 - val_acc: 0.7270\n",
      "Epoch 21/30\n",
      "100/100 [==============================] - 79s 793ms/step - loss: 0.0700 - acc: 0.9770 - val_loss: 0.6919 - val_acc: 0.7200\n",
      "Epoch 22/30\n",
      "100/100 [==============================] - 79s 792ms/step - loss: 0.0732 - acc: 0.9820 - val_loss: 1.2332 - val_acc: 0.7420\n",
      "Epoch 23/30\n",
      "100/100 [==============================] - 79s 789ms/step - loss: 0.0315 - acc: 0.9925 - val_loss: 0.0212 - val_acc: 0.7130\n",
      "Epoch 24/30\n",
      "100/100 [==============================] - 79s 793ms/step - loss: 0.0512 - acc: 0.9860 - val_loss: 2.7817 - val_acc: 0.7220\n",
      "Epoch 25/30\n",
      "100/100 [==============================] - 79s 792ms/step - loss: 0.0612 - acc: 0.9850 - val_loss: 5.8427 - val_acc: 0.7140\n",
      "Epoch 26/30\n",
      "100/100 [==============================] - 78s 785ms/step - loss: 0.0558 - acc: 0.9875 - val_loss: 1.1477 - val_acc: 0.7220\n",
      "Epoch 27/30\n",
      "100/100 [==============================] - 79s 786ms/step - loss: 0.0540 - acc: 0.9865 - val_loss: 1.1221 - val_acc: 0.7200\n",
      "Epoch 28/30\n",
      "100/100 [==============================] - 74s 743ms/step - loss: 0.0175 - acc: 0.9950 - val_loss: 2.2160 - val_acc: 0.7150\n",
      "Epoch 29/30\n",
      "100/100 [==============================] - 65s 649ms/step - loss: 0.0518 - acc: 0.9890 - val_loss: 3.9287 - val_acc: 0.7190\n",
      "Epoch 30/30\n",
      "100/100 [==============================] - 65s 652ms/step - loss: 0.0533 - acc: 0.9865 - val_loss: 3.8797 - val_acc: 0.6860\n"
     ]
    }
   ],
   "source": [
    "history = model.fit(train_generator,\n",
    "                   steps_per_epoch=100,\n",
    "                   epochs=30,\n",
    "                   validation_data=validation_generator,\n",
    "                   validation_steps=50)"
   ]
  },
  {
   "cell_type": "code",
   "execution_count": 7,
   "metadata": {},
   "outputs": [],
   "source": [
    "model.save('cats_and_dogs.h5')"
   ]
  },
  {
   "cell_type": "code",
   "execution_count": 9,
   "metadata": {},
   "outputs": [
    {
     "data": {
      "image/png": "[encoded data removed]",
      "text/plain": [
       "<Figure size 432x288 with 1 Axes>"
      ]
     },
     "metadata": {
      "needs_background": "light"
     },
     "output_type": "display_data"
    },
    {
     "data": {
      "image/png": "[encoded data removed]",
      "text/plain": [
       "<Figure size 432x288 with 1 Axes>"
      ]
     },
     "metadata": {
      "needs_background": "light"
     },
     "output_type": "display_data"
    }
   ],
   "source": [
    "import matplotlib.pyplot as plt\n",
    "\n",
    "acc = history.history['acc']\n",
    "val_acc = history.history['val_acc']\n",
    "loss = history.history['loss']\n",
    "val_loss = history.history['val_loss']\n",
    "\n",
    "epochs = range(len(acc))\n",
    "\n",
    "plt.plot(epochs, acc, 'bo', label = 'training acc')\n",
    "plt.plot(epochs, val_acc, 'b', label = 'validation acc')\n",
    "plt.legend()\n",
    "plt.show()\n",
    "\n",
    "plt.plot(epochs, loss, 'bo', label = 'training loss')\n",
    "plt.plot(epochs, val_loss, 'b', label = 'validation loss')\n",
    "plt.legend()\n",
    "plt.show()"
   ]
  },
  {
   "cell_type": "markdown",
   "metadata": {},
   "source": [
    "Clearly model is OverFitting "
   ]
  },
  {
   "cell_type": "markdown",
   "metadata": {},
   "source": [
    "## Using Data augmentation"
   ]
  },
  {
   "cell_type": "code",
   "execution_count": 10,
   "metadata": {},
   "outputs": [],
   "source": [
    "model = models.Sequential()\n",
    "model.add(layers.Conv2D(32, (3, 3), activation='relu',\n",
    "                        input_shape=(150, 150, 3)))\n",
    "model.add(layers.MaxPooling2D((2, 2)))\n",
    "model.add(layers.Conv2D(64, (3, 3), activation='relu'))\n",
    "model.add(layers.MaxPooling2D((2, 2)))\n",
    "model.add(layers.Conv2D(128, (3, 3), activation='relu'))\n",
    "model.add(layers.MaxPooling2D((2, 2)))\n",
    "model.add(layers.Conv2D(128, (3, 3), activation='relu'))\n",
    "model.add(layers.MaxPooling2D((2, 2)))\n",
    "model.add(layers.Flatten())\n",
    "model.add(layers.Dropout(0.5))\n",
    "model.add(layers.Dense(512, activation='relu'))\n",
    "model.add(layers.Dense(1, activation='sigmoid'))"
   ]
  },
  {
   "cell_type": "code",
   "execution_count": 11,
   "metadata": {},
   "outputs": [
    {
     "name": "stdout",
     "output_type": "stream",
     "text": [
      "Model: \"sequential_2\"\n",
      "_________________________________________________________________\n",
      "Layer (type)                 Output Shape              Param #   \n",
      "=================================================================\n",
      "conv2d_5 (Conv2D)            (None, 148, 148, 32)      896       \n",
      "_________________________________________________________________\n",
      "max_pooling2d_5 (MaxPooling2 (None, 74, 74, 32)        0         \n",
      "_________________________________________________________________\n",
      "conv2d_6 (Conv2D)            (None, 72, 72, 64)        18496     \n",
      "_________________________________________________________________\n",
      "max_pooling2d_6 (MaxPooling2 (None, 36, 36, 64)        0         \n",
      "_________________________________________________________________\n",
      "conv2d_7 (Conv2D)            (None, 34, 34, 128)       73856     \n",
      "_________________________________________________________________\n",
      "max_pooling2d_7 (MaxPooling2 (None, 17, 17, 128)       0         \n",
      "_________________________________________________________________\n",
      "conv2d_8 (Conv2D)            (None, 15, 15, 128)       147584    \n",
      "_________________________________________________________________\n",
      "max_pooling2d_8 (MaxPooling2 (None, 7, 7, 128)         0         \n",
      "_________________________________________________________________\n",
      "flatten_2 (Flatten)          (None, 6272)              0         \n",
      "_________________________________________________________________\n",
      "dropout_1 (Dropout)          (None, 6272)              0         \n",
      "_________________________________________________________________\n",
      "dense_3 (Dense)              (None, 512)               3211776   \n",
      "_________________________________________________________________\n",
      "dense_4 (Dense)              (None, 1)                 513       \n",
      "=================================================================\n",
      "Total params: 3,453,121\n",
      "Trainable params: 3,453,121\n",
      "Non-trainable params: 0\n",
      "_________________________________________________________________\n"
     ]
    }
   ],
   "source": [
    "model.summary()"
   ]
  },
  {
   "cell_type": "code",
   "execution_count": 12,
   "metadata": {},
   "outputs": [],
   "source": [
    "model.compile(loss='binary_crossentropy',\n",
    "              optimizer='rmsprop',\n",
    "              metrics=['acc'])"
   ]
  },
  {
   "cell_type": "code",
   "execution_count": 13,
   "metadata": {},
   "outputs": [
    {
     "name": "stdout",
     "output_type": "stream",
     "text": [
      "Found 2000 images belonging to 2 classes.\n",
      "Found 1000 images belonging to 2 classes.\n",
      "Epoch 1/30\n",
      "100/100 [==============================] - 110s 1s/step - loss: 0.7219 - acc: 0.5155 - val_loss: 0.6823 - val_acc: 0.5006\n",
      "Epoch 2/30\n",
      "100/100 [==============================] - 108s 1s/step - loss: 0.7065 - acc: 0.5597 - val_loss: 0.6371 - val_acc: 0.6385\n",
      "Epoch 3/30\n",
      "100/100 [==============================] - 109s 1s/step - loss: 0.6782 - acc: 0.6275 - val_loss: 0.7121 - val_acc: 0.6555\n",
      "Epoch 4/30\n",
      "100/100 [==============================] - 109s 1s/step - loss: 0.6589 - acc: 0.6461 - val_loss: 0.6404 - val_acc: 0.6611\n",
      "Epoch 5/30\n",
      "100/100 [==============================] - 108s 1s/step - loss: 0.6393 - acc: 0.6504 - val_loss: 0.6920 - val_acc: 0.6307\n",
      "Epoch 6/30\n",
      "100/100 [==============================] - 110s 1s/step - loss: 0.6273 - acc: 0.6520 - val_loss: 0.5776 - val_acc: 0.6978\n",
      "Epoch 7/30\n",
      "100/100 [==============================] - 108s 1s/step - loss: 0.6253 - acc: 0.6578 - val_loss: 0.6168 - val_acc: 0.6745\n",
      "Epoch 8/30\n",
      "100/100 [==============================] - 109s 1s/step - loss: 0.6094 - acc: 0.6702 - val_loss: 0.5740 - val_acc: 0.7216\n",
      "Epoch 9/30\n",
      "100/100 [==============================] - 108s 1s/step - loss: 0.6074 - acc: 0.6926 - val_loss: 0.5666 - val_acc: 0.7068\n",
      "Epoch 10/30\n",
      "100/100 [==============================] - 108s 1s/step - loss: 0.5824 - acc: 0.7016 - val_loss: 0.5132 - val_acc: 0.7170\n",
      "Epoch 11/30\n",
      "100/100 [==============================] - 109s 1s/step - loss: 0.5600 - acc: 0.7197 - val_loss: 0.7078 - val_acc: 0.7287\n",
      "Epoch 12/30\n",
      "100/100 [==============================] - 110s 1s/step - loss: 0.5676 - acc: 0.7102 - val_loss: 0.5711 - val_acc: 0.7208\n",
      "Epoch 13/30\n",
      "100/100 [==============================] - 109s 1s/step - loss: 0.5682 - acc: 0.7213 - val_loss: 0.6396 - val_acc: 0.7184\n",
      "Epoch 14/30\n",
      "100/100 [==============================] - 110s 1s/step - loss: 0.5443 - acc: 0.7283 - val_loss: 0.5054 - val_acc: 0.7741\n",
      "Epoch 15/30\n",
      "100/100 [==============================] - 113s 1s/step - loss: 0.5444 - acc: 0.7244 - val_loss: 0.4564 - val_acc: 0.7635\n",
      "Epoch 16/30\n",
      "100/100 [==============================] - 120s 1s/step - loss: 0.5333 - acc: 0.7412 - val_loss: 1.0019 - val_acc: 0.5728\n",
      "Epoch 17/30\n",
      "100/100 [==============================] - 109s 1s/step - loss: 0.5266 - acc: 0.7475 - val_loss: 0.7239 - val_acc: 0.7659\n",
      "Epoch 18/30\n",
      "100/100 [==============================] - 110s 1s/step - loss: 0.5275 - acc: 0.7380 - val_loss: 0.4187 - val_acc: 0.7255\n",
      "Epoch 19/30\n",
      "100/100 [==============================] - 110s 1s/step - loss: 0.5293 - acc: 0.7378 - val_loss: 0.4307 - val_acc: 0.7595\n",
      "Epoch 20/30\n",
      "100/100 [==============================] - 109s 1s/step - loss: 0.4939 - acc: 0.7614 - val_loss: 0.6413 - val_acc: 0.7983\n",
      "Epoch 21/30\n",
      "100/100 [==============================] - 109s 1s/step - loss: 0.5168 - acc: 0.7469 - val_loss: 0.3307 - val_acc: 0.7931\n",
      "Epoch 22/30\n",
      "100/100 [==============================] - 111s 1s/step - loss: 0.4950 - acc: 0.7623 - val_loss: 0.3386 - val_acc: 0.7700\n",
      "Epoch 23/30\n",
      "100/100 [==============================] - 111s 1s/step - loss: 0.4863 - acc: 0.7682 - val_loss: 0.4580 - val_acc: 0.7297\n",
      "Epoch 24/30\n",
      "100/100 [==============================] - 112s 1s/step - loss: 0.4703 - acc: 0.7715 - val_loss: 0.3458 - val_acc: 0.8202\n",
      "Epoch 25/30\n",
      "100/100 [==============================] - 111s 1s/step - loss: 0.4892 - acc: 0.7648 - val_loss: 0.4408 - val_acc: 0.8099\n",
      "Epoch 26/30\n",
      "100/100 [==============================] - 111s 1s/step - loss: 0.4812 - acc: 0.7812 - val_loss: 0.4118 - val_acc: 0.7798\n",
      "Epoch 27/30\n",
      "100/100 [==============================] - 112s 1s/step - loss: 0.4783 - acc: 0.7676 - val_loss: 0.3095 - val_acc: 0.8131\n",
      "Epoch 28/30\n",
      "100/100 [==============================] - 111s 1s/step - loss: 0.4502 - acc: 0.7917 - val_loss: 0.3378 - val_acc: 0.7862\n",
      "Epoch 29/30\n",
      "100/100 [==============================] - 112s 1s/step - loss: 0.4588 - acc: 0.7943 - val_loss: 0.5601 - val_acc: 0.8099\n",
      "Epoch 30/30\n",
      "100/100 [==============================] - 111s 1s/step - loss: 0.4523 - acc: 0.7880 - val_loss: 0.3712 - val_acc: 0.7938\n"
     ]
    }
   ],
   "source": [
    "train_datagen = ImageDataGenerator(\n",
    "                rescale=1./255,\n",
    "                rotation_range=40,\n",
    "                width_shift_range=0.2,\n",
    "                height_shift_range=0.2,\n",
    "                shear_range=0.2,\n",
    "                zoom_range=0.2,\n",
    "                horizontal_flip=True)\n",
    "test_datagen = ImageDataGenerator(rescale=1./255)\n",
    "\n",
    "train_generator = train_datagen.flow_from_directory(\n",
    "                train_dir,\n",
    "                target_size = (150, 150),\n",
    "                batch_size = 32,\n",
    "                class_mode = 'binary')\n",
    "\n",
    "validation_generator = test_datagen.flow_from_directory(\n",
    "                validation_dir,\n",
    "                target_size = (150, 150),\n",
    "                batch_size = 32,\n",
    "                class_mode = 'binary')\n",
    "\n",
    "history = model.fit(train_generator,\n",
    "                   epochs=30,\n",
    "                   steps_per_epoch=100,\n",
    "                   validation_data=validation_generator,\n",
    "                   validation_steps=50)"
   ]
  },
  {
   "cell_type": "code",
   "execution_count": 14,
   "metadata": {},
   "outputs": [
    {
     "data": {
      "image/png": "[encoded data removed]",
      "text/plain": [
       "<Figure size 432x288 with 1 Axes>"
      ]
     },
     "metadata": {
      "needs_background": "light"
     },
     "output_type": "display_data"
    },
    {
     "data": {
      "image/png": "[encoded data removed]",
      "text/plain": [
       "<Figure size 432x288 with 1 Axes>"
      ]
     },
     "metadata": {
      "needs_background": "light"
     },
     "output_type": "display_data"
    }
   ],
   "source": [
    "acc = history.history['acc']\n",
    "val_acc = history.history['val_acc']\n",
    "loss = history.history['loss']\n",
    "val_loss = history.history['val_loss']\n",
    "\n",
    "epochs = range(len(acc))\n",
    "\n",
    "plt.plot(epochs, acc, 'bo', label = 'training acc')\n",
    "plt.plot(epochs, val_acc, 'b', label = 'validation acc')\n",
    "plt.legend()\n",
    "plt.show()\n",
    "\n",
    "plt.plot(epochs, loss, 'bo', label = 'training loss')\n",
    "plt.plot(epochs, val_loss, 'b', label = 'validation loss')\n",
    "plt.legend()\n",
    "plt.show()"
   ]
  },
  {
   "cell_type": "code",
   "execution_count": 15,
   "metadata": {},
   "outputs": [],
   "source": [
    "model.save('cats_and_dogs1.h5')"
   ]
  }
 ],
 "metadata": {
  "kernelspec": {
   "display_name": "Python 3",
   "language": "python",
   "name": "python3"
  },
  "language_info": {
   "codemirror_mode": {
    "name": "ipython",
    "version": 3
   },
   "file_extension": ".py",
   "mimetype": "text/x-python",
   "name": "python",
   "nbconvert_exporter": "python",
   "pygments_lexer": "ipython3",
   "version": "3.8.5"
  }
 },
 "nbformat": 4,
 "nbformat_minor": 4
}
